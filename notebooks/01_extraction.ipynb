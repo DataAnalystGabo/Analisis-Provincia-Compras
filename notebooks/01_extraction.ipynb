{
 "cells": [
  {
   "cell_type": "code",
   "execution_count": 123,
   "metadata": {},
   "outputs": [],
   "source": [
    "import time\n",
    "import pandas as pd\n",
    "from selenium import webdriver\n",
    "from webdriver_manager.chrome import ChromeDriverManager\n",
    "from selenium.webdriver.common.by import By\n",
    "from selenium.webdriver.support.ui import WebDriverWait\n",
    "from selenium.webdriver.support import expected_conditions as EC"
   ]
  },
  {
   "cell_type": "code",
   "execution_count": 202,
   "metadata": {},
   "outputs": [],
   "source": [
    "try:\n",
    "\tdriver = webdriver.Chrome()\n",
    "\tdriver.get('https://www.provinciacompras.com.ar/tecnologia?page=1')\n",
    "except TypeError:\n",
    "\tprint(TypeError)"
   ]
  },
  {
   "cell_type": "code",
   "execution_count": 207,
   "metadata": {},
   "outputs": [],
   "source": [
    "XPATH_HTML = './/html[@class=\"s1-chat-initilized Chrome 129 desktop Windows landscape\"]'\n",
    "XPATH_BUTTON_SEE_MORE = './/button[@class=\"vtex-button bw1 ba fw5 v-mid relative pa0 lh-solid br2 min-h-small t-action--small bg-action-primary b--action-primary c-on-action-primary hover-bg-action-primary hover-b--action-primary hover-c-on-action-primary pointer \"]'\n",
    "XPATH_CARD = './/div[@id=\"gallery-layout-container\"]//div[@class=\"vtex-search-result-3-x-galleryItem vtex-search-result-3-x-galleryItem--normal vtex-search-result-3-x-galleryItem--list pa4\"]'\n",
    "XPATH_CARD_ID = './/span[@class=\"vtex-product-summary-2-x-productBrand vtex-product-summary-2-x-productBrand--shelf vtex-product-summary-2-x-brandName vtex-product-summary-2-x-brandName--shelf t-body\"]'\n",
    "XPATH_VIEW_CARD = './/div[@class=\"vtex-product-context-provider\"]'"
   ]
  },
  {
   "cell_type": "code",
   "execution_count": 204,
   "metadata": {},
   "outputs": [],
   "source": [
    "url_base = 'https://www.provinciacompras.com.ar/tecnologia?page='"
   ]
  },
  {
   "cell_type": "code",
   "execution_count": null,
   "metadata": {},
   "outputs": [],
   "source": [
    "for page_num in range(1, 50):\n",
    "\turl = f\"{url_base}{page_num}\"\n",
    "\tdriver.get(url)\n",
    "\n",
    "\t# Esperar a que la página cargue por completo\n",
    "\tWebDriverWait(driver, 5).until(EC.presence_of_element_located((By.XPATH, XPATH_HTML)))\n",
    "\n",
    "\t# Reencontrar las cards después de volver a la página anterior\n",
    "\tcards = WebDriverWait(driver, 5).until(EC.presence_of_all_elements_located((By.XPATH, XPATH_CARD)))\n",
    "\n",
    "\t# Recorrer cada card visible\n",
    "\tfor card_index in range(len(cards)):\n",
    "\t\t# Clic en la card actual\n",
    "\t\tcards[card_index].click()\n",
    "\n",
    "\t\t# Esperar que la nueva página cargue\n",
    "\t\tview_card = WebDriverWait(driver, 5).until(EC.presence_of_element_located((By.XPATH, XPATH_VIEW_CARD)))\n",
    "\t\t\n",
    "\t\t# Volver a la página anterior\n",
    "\t\tdriver.back()\n",
    "\n",
    "\t\t# Reencontrar las cards después de volver a la página anterior (DOM se actualiza)\n",
    "\t\tcards = WebDriverWait(driver, 5).until(EC.presence_of_all_elements_located((By.XPATH, XPATH_CARD)))\n",
    "\t\t\n",
    "\t\t# Tiempo extra prudencial\n",
    "\t\ttime.sleep(1)"
   ]
  }
 ],
 "metadata": {
  "kernelspec": {
   "display_name": "venv",
   "language": "python",
   "name": "python3"
  },
  "language_info": {
   "codemirror_mode": {
    "name": "ipython",
    "version": 3
   },
   "file_extension": ".py",
   "mimetype": "text/x-python",
   "name": "python",
   "nbconvert_exporter": "python",
   "pygments_lexer": "ipython3",
   "version": "3.12.3"
  }
 },
 "nbformat": 4,
 "nbformat_minor": 2
}

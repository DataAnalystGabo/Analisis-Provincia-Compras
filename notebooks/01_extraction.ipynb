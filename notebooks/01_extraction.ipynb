{
 "cells": [
  {
   "cell_type": "code",
   "execution_count": 1,
   "metadata": {},
   "outputs": [],
   "source": [
    "import csv\n",
    "import json\n",
    "import pandas as pd\n",
    "from selenium import webdriver\n",
    "from selenium.webdriver.common.by import By\n",
    "from selenium.webdriver.support.ui import WebDriverWait\n",
    "from selenium.webdriver.support import expected_conditions as EC\n",
    "from selenium.common.exceptions import TimeoutException, NoSuchElementException, StaleElementReferenceException"
   ]
  },
  {
   "cell_type": "code",
   "execution_count": 2,
   "metadata": {},
   "outputs": [],
   "source": [
    "XPATH_HTML = './/html[@class=\"s1-chat-initilized Chrome 129 desktop Windows landscape\"]'\n",
    "XPATH_BUTTON_SEE_MORE = './/button[@class=\"vtex-button bw1 ba fw5 v-mid relative pa0 lh-solid br2 min-h-small t-action--small bg-action-primary b--action-primary c-on-action-primary hover-bg-action-primary hover-b--action-primary hover-c-on-action-primary pointer \"]'\n",
    "XPATH_CARD = './/div[@id=\"gallery-layout-container\"]//div[@class=\"vtex-search-result-3-x-galleryItem vtex-search-result-3-x-galleryItem--normal vtex-search-result-3-x-galleryItem--grid pa4\"]//section[@class=\"vtex-product-summary-2-x-container vtex-product-summary-2-x-container--shelf vtex-product-summary-2-x-container--shelf-search vtex-product-summary-2-x-containerNormal vtex-product-summary-2-x-containerNormal--shelf vtex-product-summary-2-x-containerNormal--shelf-search overflow-hidden br3 h-100 w-100 flex flex-column justify-between center tc\"]//a[@class=\"vtex-product-summary-2-x-clearLink vtex-product-summary-2-x-clearLink--shelf vtex-product-summary-2-x-clearLink--shelf-search h-100 flex flex-column\"]'\n",
    "XPATH_CARD_ID = './/span[@class=\"vtex-product-summary-2-x-productBrand vtex-product-summary-2-x-productBrand--shelf vtex-product-summary-2-x-brandName vtex-product-summary-2-x-brandName--shelf t-body\"]'\n",
    "XPATH_PAGE_PRODUCT  = './/body[@class=\"bg-base\"]'\n",
    "XPATH_CATEGORY = './/span[@class=\"vtex-breadcrumb-1-x-arrow vtex-breadcrumb-1-x-arrow--product-breadcrumb vtex-breadcrumb-1-x-arrow--3 vtex-breadcrumb-1-x-arrow--product-breadcrumb--3 ph2 c-muted-2\"]//a[@class=\"vtex-breadcrumb-1-x-link vtex-breadcrumb-1-x-link--product-breadcrumb vtex-breadcrumb-1-x-link--3 vtex-breadcrumb-1-x-link--product-breadcrumb--3 dib pv1 link ph2 c-muted-2 hover-c-link\"]'\n",
    "XPATH_BRAND_NAME = './/div[@class=\"pr0 items-stretch vtex-flex-layout-0-x-stretchChildrenWidth   flex\"]//a[@class=\"baproar-components-0-x-brandName\"]'\n",
    "XPATH_PRODUCT_NAME = './/h1[@class=\"vtex-store-components-3-x-productNameContainer vtex-store-components-3-x-productNameContainer--product-name mv0 t-heading-4\"]//span[@class=\"vtex-store-components-3-x-productBrand vtex-store-components-3-x-productBrand--product-name \"]'\n",
    "XPATH_PRODUCT_RATE_SELLER = './/a[@class=\"baproar-components-0-x-landingSellerLink\"]//span[@class=\"baproar-components-0-x-sellerScorePDPRate\"]'\n",
    "XPATH_SELLER = './/div[@class=\"baproar-components-0-x-sellerScorePDPSold\"]//a[@class=\"baproar-components-0-x-sellerScorePDPLink\"]'\n",
    "XPATH_SAVING_PERCENTAGE = './/div[@class=\"pr0 items-stretch    flex\"]//span[@class=\"vtex-product-price-1-x-savings vtex-product-price-1-x-savings--product-price-savings\"]//span[@class=\"vtex-product-price-1-x-savingsPercentage vtex-product-price-1-x-savingsPercentage--product-price-savings\"]'\n",
    "XPATH_PRICE = './/span[@class=\"vtex-product-price-1-x-currencyContainer vtex-product-price-1-x-currencyContainer--product-selling-price\"]'\n",
    "XPATH_STOCK = './/div[@class=\"vtex-product-availability-0-x-container flex pv2\"]'\n",
    "XPATH_FOOTER = './/div[@class=\"vtex-store-footer-2-x-footerLayout\"]'\n"
   ]
  },
  {
   "cell_type": "code",
   "execution_count": 3,
   "metadata": {},
   "outputs": [],
   "source": [
    "url_base = 'https://www.provinciacompras.com.ar/hogar?page='"
   ]
  },
  {
   "cell_type": "code",
   "execution_count": 4,
   "metadata": {},
   "outputs": [],
   "source": [
    "driver = webdriver.Chrome()"
   ]
  },
  {
   "cell_type": "code",
   "execution_count": 5,
   "metadata": {},
   "outputs": [],
   "source": [
    "headers = ['url', 'category', 'brand_name', 'product_name', 'seller', 'rate_seller','saving_percentage', 'price', 'stock']\n",
    "data = {variable: [] for variable in headers}"
   ]
  },
  {
   "cell_type": "code",
   "execution_count": 6,
   "metadata": {},
   "outputs": [],
   "source": [
    "products_not_scraped = set()"
   ]
  },
  {
   "cell_type": "code",
   "execution_count": 7,
   "metadata": {},
   "outputs": [],
   "source": [
    "# Función que valida y recupera los datos\n",
    "def get_element(element, xpath):\n",
    "    try:\n",
    "        # Buscar el elemento dentro del elemento padre\n",
    "        child_element = element.find_element(By.XPATH, xpath)\n",
    "        # Extraer el texto del elemento hijo\n",
    "        element_text = child_element.text\n",
    "        if element_text:\n",
    "            return element_text\n",
    "        else:\n",
    "            return 'Null'\n",
    "    except:\n",
    "        return 'Null'"
   ]
  },
  {
   "cell_type": "code",
   "execution_count": null,
   "metadata": {},
   "outputs": [],
   "source": [
    "for page_num in range(1, 51):\n",
    "\ttry:\n",
    "\t\turl = f\"{url_base}{page_num}\"\n",
    "\t\tdriver.get(url)\n",
    "\t\tdriver.maximize_window()\n",
    "\t\t# Esperar a que la página cargue por completo\n",
    "\t\tWebDriverWait(driver, 5).until(EC.presence_of_element_located((By.XPATH, XPATH_HTML)))\n",
    "\n",
    "\t\t# Recolectar todas las cards de productos\n",
    "\t\tcards = WebDriverWait(driver, 5).until(EC.presence_of_all_elements_located((By.XPATH, XPATH_CARD)))\n",
    "\n",
    "\t\t# Recorrer cada card visible\n",
    "\t\tfor i in range(len(cards)):\n",
    "\t\t\ttry:\n",
    "\t\t\t\t# Clic en la card actual\n",
    "\t\t\t\tcards[i].click()\n",
    "\n",
    "\t\t\t\t# Esperar a que el body de la página esté presente\n",
    "\t\t\t\tWebDriverWait(driver, 10).until(EC.visibility_of_element_located((By.XPATH, XPATH_FOOTER)))\n",
    "\n",
    "\t\t\t\t# Capturamos el body de la página del cual vamos a capturar los datos\n",
    "\t\t\t\tbody = WebDriverWait(driver, 5).until(EC.presence_of_element_located((By.XPATH, './/div[@class=\"render-container render-route-store-product\"]')))\n",
    "\t\t\t\t\n",
    "\t\t\t\t###########CAPTURA DE LOS DATOS###############\n",
    "\t\t\t\turl = driver.current_url\n",
    "\t\t\t\tcategory = get_element(body, XPATH_CATEGORY)\n",
    "\t\t\t\tbrand_name = get_element(body, XPATH_BRAND_NAME)\n",
    "\t\t\t\tproduct_name = get_element(body, XPATH_PRODUCT_NAME)\n",
    "\t\t\t\tseller = get_element(body, XPATH_SELLER)\n",
    "\t\t\t\trate_seller = get_element(body, XPATH_PRODUCT_RATE_SELLER)\n",
    "\t\t\t\tsaving_percentage = get_element(body, XPATH_SAVING_PERCENTAGE)\n",
    "\t\t\t\tprice = get_element(body, XPATH_PRICE)\n",
    "\t\t\t\tstock = get_element(body, XPATH_STOCK)\n",
    "\t\t\t\t###########CAPTURA DE LOS DATOS###############\n",
    "\n",
    "\t\t\t\tdata['url'].append(url)\n",
    "\t\t\t\tdata['category'].append(category)\n",
    "\t\t\t\tdata['brand_name'].append(brand_name)\n",
    "\t\t\t\tdata['product_name'].append(product_name)\n",
    "\t\t\t\tdata['seller'].append(seller)\n",
    "\t\t\t\tdata['rate_seller'].append(rate_seller)\n",
    "\t\t\t\tdata['saving_percentage'].append(saving_percentage)\n",
    "\t\t\t\tdata['price'].append(price)\n",
    "\t\t\t\tdata['stock'].append(stock)\n",
    "\n",
    "\t\t\t\t# Volver a la página anterior\n",
    "\t\t\t\tdriver.back()\n",
    "\t\t\t\tdriver.implicitly_wait(1)\n",
    "\t\t\t\t# Reencontrar las cards después de volver a la página anterior (DOM se actualiza)\n",
    "\t\t\t\tcards = WebDriverWait(driver, 5).until(EC.\n",
    "\t\t\t\tpresence_of_all_elements_located((By.XPATH, XPATH_CARD)))\n",
    "\t\t\texcept(TimeoutException, NoSuchElementException, StaleElementReferenceException) as error:\n",
    "\t\t\t\tproducts_not_scraped.append({'product_name': product_name, 'url': url, 'page_num': page_num})\n",
    "\t\t\t\tcontinue\n",
    "\texcept (TimeoutException, NoSuchElementException, StaleElementReferenceException) as error:\n",
    "\t\tprint(f'Error al cargar la página {page_num}')\n",
    "\t\tcontinue"
   ]
  },
  {
   "cell_type": "code",
   "execution_count": 11,
   "metadata": {},
   "outputs": [],
   "source": [
    "df = pd.DataFrame(data)"
   ]
  },
  {
   "cell_type": "code",
   "execution_count": 12,
   "metadata": {},
   "outputs": [
    {
     "data": {
      "text/html": [
       "<div>\n",
       "<style scoped>\n",
       "    .dataframe tbody tr th:only-of-type {\n",
       "        vertical-align: middle;\n",
       "    }\n",
       "\n",
       "    .dataframe tbody tr th {\n",
       "        vertical-align: top;\n",
       "    }\n",
       "\n",
       "    .dataframe thead th {\n",
       "        text-align: right;\n",
       "    }\n",
       "</style>\n",
       "<table border=\"1\" class=\"dataframe\">\n",
       "  <thead>\n",
       "    <tr style=\"text-align: right;\">\n",
       "      <th></th>\n",
       "      <th>url</th>\n",
       "      <th>category</th>\n",
       "      <th>brand_name</th>\n",
       "      <th>product_name</th>\n",
       "      <th>seller</th>\n",
       "      <th>rate_seller</th>\n",
       "      <th>saving_percentage</th>\n",
       "      <th>price</th>\n",
       "      <th>stock</th>\n",
       "    </tr>\n",
       "  </thead>\n",
       "  <tbody>\n",
       "    <tr>\n",
       "      <th>0</th>\n",
       "      <td>https://www.provinciacompras.com.ar/colchon-so...</td>\n",
       "      <td>Sommiers</td>\n",
       "      <td>Simmons</td>\n",
       "      <td>Colchón Sommier Simmons Backcare Hotel Bilt</td>\n",
       "      <td>Simmons</td>\n",
       "      <td>Null</td>\n",
       "      <td>67%</td>\n",
       "      <td>$ 636.502</td>\n",
       "      <td>Stock: +50</td>\n",
       "    </tr>\n",
       "    <tr>\n",
       "      <th>1</th>\n",
       "      <td>https://www.provinciacompras.com.ar/colchon-si...</td>\n",
       "      <td>Colchones</td>\n",
       "      <td>Simmons</td>\n",
       "      <td>Colchón Simmons Backcare Hotel Bilt</td>\n",
       "      <td>Simmons\\n2.5</td>\n",
       "      <td>2.5</td>\n",
       "      <td>67%</td>\n",
       "      <td>$ 444.357</td>\n",
       "      <td>Stock: +50</td>\n",
       "    </tr>\n",
       "    <tr>\n",
       "      <th>2</th>\n",
       "      <td>https://www.provinciacompras.com.ar/sommier-y-...</td>\n",
       "      <td>Sommiers</td>\n",
       "      <td>La Espumeria</td>\n",
       "      <td>Sommier y colchon Indie de Resortes</td>\n",
       "      <td>La Espumeria</td>\n",
       "      <td>Null</td>\n",
       "      <td>57%</td>\n",
       "      <td>$ 477.850</td>\n",
       "      <td>Stock: +50</td>\n",
       "    </tr>\n",
       "    <tr>\n",
       "      <th>3</th>\n",
       "      <td>https://www.provinciacompras.com.ar/sommier-y-...</td>\n",
       "      <td>Colchones</td>\n",
       "      <td>Sealy</td>\n",
       "      <td>Sommier Y Colchon Sealy Linen</td>\n",
       "      <td>SommierCenter</td>\n",
       "      <td>Null</td>\n",
       "      <td>41%</td>\n",
       "      <td>$ 565.699</td>\n",
       "      <td>Stock:\\n40</td>\n",
       "    </tr>\n",
       "    <tr>\n",
       "      <th>4</th>\n",
       "      <td>https://www.provinciacompras.com.ar/hidrolavad...</td>\n",
       "      <td>Herramientas de jardín</td>\n",
       "      <td>Lusqtoff</td>\n",
       "      <td>Hidrolavadora Lusqtoff 105bar 1200w Alta Presi...</td>\n",
       "      <td>Style Store</td>\n",
       "      <td>4</td>\n",
       "      <td>45%</td>\n",
       "      <td>$ 153.999,45</td>\n",
       "      <td>Stock: +50</td>\n",
       "    </tr>\n",
       "  </tbody>\n",
       "</table>\n",
       "</div>"
      ],
      "text/plain": [
       "                                                 url                category  \\\n",
       "0  https://www.provinciacompras.com.ar/colchon-so...                Sommiers   \n",
       "1  https://www.provinciacompras.com.ar/colchon-si...               Colchones   \n",
       "2  https://www.provinciacompras.com.ar/sommier-y-...                Sommiers   \n",
       "3  https://www.provinciacompras.com.ar/sommier-y-...               Colchones   \n",
       "4  https://www.provinciacompras.com.ar/hidrolavad...  Herramientas de jardín   \n",
       "\n",
       "     brand_name                                       product_name  \\\n",
       "0       Simmons        Colchón Sommier Simmons Backcare Hotel Bilt   \n",
       "1       Simmons                Colchón Simmons Backcare Hotel Bilt   \n",
       "2  La Espumeria                Sommier y colchon Indie de Resortes   \n",
       "3         Sealy                      Sommier Y Colchon Sealy Linen   \n",
       "4      Lusqtoff  Hidrolavadora Lusqtoff 105bar 1200w Alta Presi...   \n",
       "\n",
       "          seller rate_seller saving_percentage         price       stock  \n",
       "0        Simmons        Null               67%     $ 636.502  Stock: +50  \n",
       "1   Simmons\\n2.5         2.5               67%     $ 444.357  Stock: +50  \n",
       "2   La Espumeria        Null               57%     $ 477.850  Stock: +50  \n",
       "3  SommierCenter        Null               41%     $ 565.699  Stock:\\n40  \n",
       "4    Style Store           4               45%  $ 153.999,45  Stock: +50  "
      ]
     },
     "execution_count": 12,
     "metadata": {},
     "output_type": "execute_result"
    }
   ],
   "source": [
    "df.head()"
   ]
  },
  {
   "cell_type": "code",
   "execution_count": 11,
   "metadata": {},
   "outputs": [],
   "source": [
    "# for column in df.select_dtypes(include=['object']).columns:\n",
    "#     df[column] = df[column].astype(str).str.replace('\\n', '')"
   ]
  },
  {
   "cell_type": "code",
   "execution_count": 15,
   "metadata": {},
   "outputs": [],
   "source": [
    "# df.to_csv('../outputs/output_.csv', index=False)"
   ]
  },
  {
   "cell_type": "code",
   "execution_count": 13,
   "metadata": {},
   "outputs": [],
   "source": [
    "# df.to_json('./outputs/output_.json')"
   ]
  }
 ],
 "metadata": {
  "kernelspec": {
   "display_name": "venv",
   "language": "python",
   "name": "python3"
  },
  "language_info": {
   "codemirror_mode": {
    "name": "ipython",
    "version": 3
   },
   "file_extension": ".py",
   "mimetype": "text/x-python",
   "name": "python",
   "nbconvert_exporter": "python",
   "pygments_lexer": "ipython3",
   "version": "3.12.3"
  }
 },
 "nbformat": 4,
 "nbformat_minor": 2
}
